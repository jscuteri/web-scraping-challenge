{
 "cells": [
  {
   "cell_type": "code",
   "execution_count": 4,
   "id": "2fc92a8f",
   "metadata": {},
   "outputs": [],
   "source": [
    "#Import Dependencies\n",
    "\n",
    "from bs4 import BeautifulSoup\n",
    "import requests\n",
    "import pymongo\n",
    "from splinter import Browser\n",
    "import pandas \n",
    "from webdriver_manager.chrome import ChromeDriverManager\n",
    "\n",
    "# Imports for routes\n",
    "from flask import Flask, render_template, redirect\n",
    "from flask_pymongo import PyMongo\n",
    "import scrape_mars\n",
    "\n",
    "from selenium import webdriver"
   ]
  },
  {
   "cell_type": "code",
   "execution_count": 18,
   "id": "db632107",
   "metadata": {},
   "outputs": [],
   "source": [
    "# Initialize PyMongo to work with MongoDBs\n",
    "conn = 'mongodb://localhost:27017'\n",
    "client = pymongo.MongoClient(conn)"
   ]
  },
  {
   "cell_type": "code",
   "execution_count": 19,
   "id": "5fd16ba9",
   "metadata": {},
   "outputs": [],
   "source": [
    "db = client.mars_db\n",
    "collection = db.items"
   ]
  },
  {
   "cell_type": "code",
   "execution_count": 20,
   "id": "eaab5e85",
   "metadata": {},
   "outputs": [
    {
     "name": "stderr",
     "output_type": "stream",
     "text": [
      "\n",
      "\n",
      "====== WebDriver manager ======\n",
      "Current google-chrome version is 96.0.4664\n",
      "Get LATEST chromedriver version for 96.0.4664 google-chrome\n",
      "Driver [/Users/joescuteri/.wdm/drivers/chromedriver/mac64/96.0.4664.45/chromedriver] found in cache\n"
     ]
    }
   ],
   "source": [
    "# Sets a path to Google Chrome\n",
    "\n",
    "executable_path = {'executable_path': ChromeDriverManager().install()}\n",
    "browser = Browser('chrome', **executable_path, headless=False)"
   ]
  },
  {
   "cell_type": "code",
   "execution_count": 21,
   "id": "c779247e",
   "metadata": {},
   "outputs": [],
   "source": [
    "# URL of the page to be scraped\n",
    "\n",
    "url = 'https://redplanetscience.com/'"
   ]
  },
  {
   "cell_type": "code",
   "execution_count": 22,
   "id": "4f78bbbc",
   "metadata": {},
   "outputs": [],
   "source": [
    "# Visit the browser\n",
    "\n",
    "browser.visit(url)"
   ]
  },
  {
   "cell_type": "code",
   "execution_count": 23,
   "id": "a30dec6b",
   "metadata": {},
   "outputs": [],
   "source": [
    "# Convert the browser to HTML\n",
    "\n",
    "html = browser.html"
   ]
  },
  {
   "cell_type": "code",
   "execution_count": 24,
   "id": "22d7eb5a",
   "metadata": {},
   "outputs": [],
   "source": [
    "# Create BeautifulSoup object; parse with 'lxml' or 'html.parser'. This takes your browser and breaks it up into digestable pieces\n",
    "\n",
    "soup = BeautifulSoup(html, 'html.parser')"
   ]
  },
  {
   "cell_type": "code",
   "execution_count": 25,
   "id": "5430db17",
   "metadata": {},
   "outputs": [],
   "source": [
    "# Make it pretty and easy to read\n",
    "\n",
    "# print(soup.prettify())"
   ]
  },
  {
   "cell_type": "code",
   "execution_count": 26,
   "id": "cff5717f",
   "metadata": {},
   "outputs": [],
   "source": [
    "# Examine the results, then determine the element that contains the sought info. .text helps just show the item you want.\n",
    "\n",
    "news_title = soup.find('div', class_='content_title').text\n",
    "\n",
    "news_p = soup.find('div', class_='article_teaser_body').text"
   ]
  },
  {
   "cell_type": "code",
   "execution_count": 27,
   "id": "93ad0803",
   "metadata": {},
   "outputs": [
    {
     "data": {
      "text/plain": [
       "\"NASA's Perseverance Mars Rover Gets Balanced\""
      ]
     },
     "execution_count": 27,
     "metadata": {},
     "output_type": "execute_result"
    }
   ],
   "source": [
    "#This is the text of the news title\n",
    "\n",
    "news_title"
   ]
  },
  {
   "cell_type": "code",
   "execution_count": 28,
   "id": "c9d6cf76",
   "metadata": {},
   "outputs": [
    {
     "data": {
      "text/plain": [
       "\"The mission team performed a crucial weight-balancing test on the rover in preparation for this summer's history-making launch to the Red Planet.\""
      ]
     },
     "execution_count": 28,
     "metadata": {},
     "output_type": "execute_result"
    }
   ],
   "source": [
    "# This is the text of the news teaser\n",
    "\n",
    "news_p"
   ]
  },
  {
   "cell_type": "code",
   "execution_count": 29,
   "id": "0804b1b7",
   "metadata": {},
   "outputs": [],
   "source": [
    "# New url to scrape images\n",
    "\n",
    "url_image = 'https://spaceimages-mars.com/'"
   ]
  },
  {
   "cell_type": "code",
   "execution_count": 30,
   "id": "f3762610",
   "metadata": {},
   "outputs": [],
   "source": [
    "# connect to the URL the same way you did above\n",
    "\n",
    "browser.visit(url_image)\n",
    "html_image = browser.html\n",
    "soup_image = BeautifulSoup(html_image, 'html.parser')"
   ]
  },
  {
   "cell_type": "code",
   "execution_count": 31,
   "id": "eb5239cc",
   "metadata": {},
   "outputs": [],
   "source": [
    "# This is the item you want to scrape. We did not click in the browser to show just the image. Instead, we used the raw link\n",
    "\n",
    "space_image = soup_image.find('img', class_='headerimage fade-in').get('src')"
   ]
  },
  {
   "cell_type": "code",
   "execution_count": 32,
   "id": "3e244eb6",
   "metadata": {},
   "outputs": [
    {
     "data": {
      "text/plain": [
       "'image/featured/mars1.jpg'"
      ]
     },
     "execution_count": 32,
     "metadata": {},
     "output_type": "execute_result"
    }
   ],
   "source": [
    "# this is the 2nd half of the URL that leads to only the image\n",
    "\n",
    "space_image"
   ]
  },
  {
   "cell_type": "code",
   "execution_count": 33,
   "id": "ced2f044",
   "metadata": {},
   "outputs": [
    {
     "data": {
      "text/plain": [
       "'https://spaceimages-mars.com/image/featured/mars1.jpg'"
      ]
     },
     "execution_count": 33,
     "metadata": {},
     "output_type": "execute_result"
    }
   ],
   "source": [
    "# final URL\n",
    "\n",
    "total_image = url_image + space_image\n",
    "total_image"
   ]
  },
  {
   "cell_type": "code",
   "execution_count": 34,
   "id": "0fadb016",
   "metadata": {},
   "outputs": [],
   "source": [
    "# This is the url to the Mars Table\n",
    "# We use pandas to read the table and take the 0 index position\n",
    "\n",
    "mars_table=pandas.read_html('https://galaxyfacts-mars.com/')[0]"
   ]
  },
  {
   "cell_type": "code",
   "execution_count": 35,
   "id": "227406ca",
   "metadata": {},
   "outputs": [
    {
     "data": {
      "text/html": [
       "<div>\n",
       "<style scoped>\n",
       "    .dataframe tbody tr th:only-of-type {\n",
       "        vertical-align: middle;\n",
       "    }\n",
       "\n",
       "    .dataframe tbody tr th {\n",
       "        vertical-align: top;\n",
       "    }\n",
       "\n",
       "    .dataframe thead th {\n",
       "        text-align: right;\n",
       "    }\n",
       "</style>\n",
       "<table border=\"1\" class=\"dataframe\">\n",
       "  <thead>\n",
       "    <tr style=\"text-align: right;\">\n",
       "      <th></th>\n",
       "      <th>0</th>\n",
       "      <th>1</th>\n",
       "      <th>2</th>\n",
       "    </tr>\n",
       "  </thead>\n",
       "  <tbody>\n",
       "    <tr>\n",
       "      <th>0</th>\n",
       "      <td>Mars - Earth Comparison</td>\n",
       "      <td>Mars</td>\n",
       "      <td>Earth</td>\n",
       "    </tr>\n",
       "    <tr>\n",
       "      <th>1</th>\n",
       "      <td>Diameter:</td>\n",
       "      <td>6,779 km</td>\n",
       "      <td>12,742 km</td>\n",
       "    </tr>\n",
       "    <tr>\n",
       "      <th>2</th>\n",
       "      <td>Mass:</td>\n",
       "      <td>6.39 × 10^23 kg</td>\n",
       "      <td>5.97 × 10^24 kg</td>\n",
       "    </tr>\n",
       "    <tr>\n",
       "      <th>3</th>\n",
       "      <td>Moons:</td>\n",
       "      <td>2</td>\n",
       "      <td>1</td>\n",
       "    </tr>\n",
       "    <tr>\n",
       "      <th>4</th>\n",
       "      <td>Distance from Sun:</td>\n",
       "      <td>227,943,824 km</td>\n",
       "      <td>149,598,262 km</td>\n",
       "    </tr>\n",
       "    <tr>\n",
       "      <th>5</th>\n",
       "      <td>Length of Year:</td>\n",
       "      <td>687 Earth days</td>\n",
       "      <td>365.24 days</td>\n",
       "    </tr>\n",
       "    <tr>\n",
       "      <th>6</th>\n",
       "      <td>Temperature:</td>\n",
       "      <td>-87 to -5 °C</td>\n",
       "      <td>-88 to 58°C</td>\n",
       "    </tr>\n",
       "  </tbody>\n",
       "</table>\n",
       "</div>"
      ],
      "text/plain": [
       "                         0                1                2\n",
       "0  Mars - Earth Comparison             Mars            Earth\n",
       "1                Diameter:         6,779 km        12,742 km\n",
       "2                    Mass:  6.39 × 10^23 kg  5.97 × 10^24 kg\n",
       "3                   Moons:                2                1\n",
       "4       Distance from Sun:   227,943,824 km   149,598,262 km\n",
       "5          Length of Year:   687 Earth days      365.24 days\n",
       "6             Temperature:     -87 to -5 °C      -88 to 58°C"
      ]
     },
     "execution_count": 35,
     "metadata": {},
     "output_type": "execute_result"
    }
   ],
   "source": [
    "#This is the Mars that we pulled from the website\n",
    "\n",
    "mars_table"
   ]
  },
  {
   "cell_type": "code",
   "execution_count": 36,
   "id": "6d028b4e",
   "metadata": {},
   "outputs": [],
   "source": [
    "# Convert the Mars table to html and save it as marstable.html\n",
    "\n",
    "mars_table.to_html('marstable.html')"
   ]
  },
  {
   "cell_type": "code",
   "execution_count": 37,
   "id": "73ba9bfd",
   "metadata": {},
   "outputs": [
    {
     "data": {
      "text/plain": [
       "'https://marshemispheres.com/images/f5e372a36edfa389625da6d0cc25d905_cerberus_enhanced.tif_full.jpg'"
      ]
     },
     "execution_count": 37,
     "metadata": {},
     "output_type": "execute_result"
    }
   ],
   "source": [
    "# Cerberus Title & Image\n",
    "\n",
    "# Cerberus breakdown\n",
    "mars_hemispheres = 'https://marshemispheres.com/'\n",
    "browser.visit(mars_hemispheres)\n",
    "cerberus_page = browser.links.find_by_partial_text('Cerberus').click()\n",
    "cerberus_html = browser.html\n",
    "soup_cerberus = BeautifulSoup(cerberus_html, 'html.parser')\n",
    "\n",
    "# Cerberus Title\n",
    "cerberus_title = soup_cerberus.find('h2', class_='title').text\n",
    "cerberus_hemisphere = cerberus_title.split(' E')[0]\n",
    "cerberus_hemisphere\n",
    "\n",
    "# Cerberus Image\n",
    "\n",
    "cerberus_image = soup_cerberus.find('img', class_='wide-image').get('src')\n",
    "final_cerberus_image = mars_hemispheres + cerberus_image\n",
    "final_cerberus_image"
   ]
  },
  {
   "cell_type": "code",
   "execution_count": 38,
   "id": "f978dbd4",
   "metadata": {},
   "outputs": [
    {
     "data": {
      "text/plain": [
       "'https://marshemispheres.com/images/3778f7b43bbbc89d6e3cfabb3613ba93_schiaparelli_enhanced.tif_full.jpg'"
      ]
     },
     "execution_count": 38,
     "metadata": {},
     "output_type": "execute_result"
    }
   ],
   "source": [
    "# Schiaparelli Title & Image\n",
    "\n",
    "# Schiaparelli breakdown\n",
    "mars_hemispheres = 'https://marshemispheres.com/'\n",
    "browser.visit(mars_hemispheres)\n",
    "schiaparelli_page = browser.links.find_by_partial_text('Schiaparelli').click()\n",
    "schiaparelli_html = browser.html\n",
    "soup_schiaparelli = BeautifulSoup(schiaparelli_html, 'html.parser')\n",
    "\n",
    "# Schiaparelli Title\n",
    "schiaparelli_title = soup_schiaparelli.find('h2', class_='title').text\n",
    "schiaparelli_hemisphere = schiaparelli_title.split(' E')[0]\n",
    "schiaparelli_hemisphere\n",
    "\n",
    "# Schiaparelli Image\n",
    "\n",
    "schiaparelli_image = soup_schiaparelli.find('img', class_='wide-image').get('src')\n",
    "schiaparelli_image\n",
    "final_schiaparelli_image = mars_hemispheres + schiaparelli_image\n",
    "final_schiaparelli_image"
   ]
  },
  {
   "cell_type": "code",
   "execution_count": 39,
   "id": "2ee6b49e",
   "metadata": {},
   "outputs": [
    {
     "data": {
      "text/plain": [
       "'https://marshemispheres.com/images/555e6403a6ddd7ba16ddb0e471cadcf7_syrtis_major_enhanced.tif_full.jpg'"
      ]
     },
     "execution_count": 39,
     "metadata": {},
     "output_type": "execute_result"
    }
   ],
   "source": [
    "# Syrtis Title & Image\n",
    "\n",
    "# Syrtis breakdown\n",
    "mars_hemispheres = 'https://marshemispheres.com/'\n",
    "browser.visit(mars_hemispheres)\n",
    "syrtis_page = browser.links.find_by_partial_text('Syrtis').click()\n",
    "syrtis_html = browser.html\n",
    "soup_syrtis = BeautifulSoup(syrtis_html, 'html.parser')\n",
    "\n",
    "# Syrtis Title\n",
    "syrtis_title = soup_syrtis.find('h2', class_='title').text\n",
    "syrtis_hemisphere = syrtis_title.split(' E')[0]\n",
    "syrtis_hemisphere\n",
    "\n",
    "# Syrtis Image\n",
    "\n",
    "syrtis_image = soup_syrtis.find('img', class_='wide-image').get('src')\n",
    "final_syrtis_image = mars_hemispheres + syrtis_image\n",
    "final_syrtis_image"
   ]
  },
  {
   "cell_type": "code",
   "execution_count": 40,
   "id": "3cefee13",
   "metadata": {},
   "outputs": [
    {
     "data": {
      "text/plain": [
       "'https://marshemispheres.com/images/b3c7c6c9138f57b4756be9b9c43e3a48_valles_marineris_enhanced.tif_full.jpg'"
      ]
     },
     "execution_count": 40,
     "metadata": {},
     "output_type": "execute_result"
    }
   ],
   "source": [
    "# Valles Title & Image\n",
    "\n",
    "# Valles breakdown\n",
    "mars_hemispheres = 'https://marshemispheres.com/'\n",
    "browser.visit(mars_hemispheres)\n",
    "valles_page = browser.links.find_by_partial_text('Valles').click()\n",
    "valles_html = browser.html\n",
    "soup_valles = BeautifulSoup(valles_html, 'html.parser')\n",
    "\n",
    "# Valles Title\n",
    "valles_title = soup_valles.find('h2', class_='title').text\n",
    "valles_hemisphere = valles_title.split(' E')[0]\n",
    "valles_hemisphere\n",
    "\n",
    "# Valles Image\n",
    "\n",
    "valles_image = soup_valles.find('img', class_='wide-image').get('src')\n",
    "final_valles_image = mars_hemispheres + valles_image\n",
    "final_valles_image"
   ]
  },
  {
   "cell_type": "code",
   "execution_count": 41,
   "id": "ab821fa8",
   "metadata": {},
   "outputs": [],
   "source": [
    "# Create dictionaries\n",
    "\n",
    "red_planet = {\n",
    "    'News Title': news_title,\n",
    "    'News Teaser' : news_p,\n",
    "    'Space Image' : total_image,\n",
    "    'Title Cerberus': cerberus_hemisphere, \n",
    "    'Cerberus URL': final_cerberus_image,\n",
    "    'Title Schiaparelli': schiaparelli_hemisphere, \n",
    "    'Schiaparelli URL': final_schiaparelli_image,\n",
    "    'Title Syrtis': syrtis_hemisphere, \n",
    "    'Syrtis URL': final_syrtis_image,\n",
    "    'Title Valles': valles_hemisphere, \n",
    "    'Valles URL': final_valles_image\n",
    "    }\n"
   ]
  },
  {
   "cell_type": "code",
   "execution_count": 42,
   "id": "6cad8fed",
   "metadata": {},
   "outputs": [
    {
     "data": {
      "text/plain": [
       "{'News Title': \"NASA's Perseverance Mars Rover Gets Balanced\",\n",
       " 'News Teaser': \"The mission team performed a crucial weight-balancing test on the rover in preparation for this summer's history-making launch to the Red Planet.\",\n",
       " 'Space Image': 'https://spaceimages-mars.com/image/featured/mars1.jpg',\n",
       " 'Title Cerberus': 'Cerberus Hemisphere',\n",
       " 'Cerberus URL': 'https://marshemispheres.com/images/f5e372a36edfa389625da6d0cc25d905_cerberus_enhanced.tif_full.jpg',\n",
       " 'Title Schiaparelli': 'Schiaparelli Hemisphere',\n",
       " 'Schiaparelli URL': 'https://marshemispheres.com/images/3778f7b43bbbc89d6e3cfabb3613ba93_schiaparelli_enhanced.tif_full.jpg',\n",
       " 'Title Syrtis': 'Syrtis Major Hemisphere',\n",
       " 'Syrtis URL': 'https://marshemispheres.com/images/555e6403a6ddd7ba16ddb0e471cadcf7_syrtis_major_enhanced.tif_full.jpg',\n",
       " 'Title Valles': 'Valles Marineris Hemisphere',\n",
       " 'Valles URL': 'https://marshemispheres.com/images/b3c7c6c9138f57b4756be9b9c43e3a48_valles_marineris_enhanced.tif_full.jpg'}"
      ]
     },
     "execution_count": 42,
     "metadata": {},
     "output_type": "execute_result"
    }
   ],
   "source": [
    "red_planet"
   ]
  },
  {
   "cell_type": "code",
   "execution_count": 43,
   "id": "43b77ae2",
   "metadata": {},
   "outputs": [
    {
     "data": {
      "text/plain": [
       "<pymongo.results.InsertOneResult at 0x7fa88ca1f280>"
      ]
     },
     "execution_count": 43,
     "metadata": {},
     "output_type": "execute_result"
    }
   ],
   "source": [
    "collection.insert_one(red_planet)"
   ]
  },
  {
   "cell_type": "code",
   "execution_count": 44,
   "id": "59b479fc",
   "metadata": {},
   "outputs": [],
   "source": [
    "app = Flask(__name__)\n",
    "\n",
    "app.config[\"MONGO_URI\"] = \"mongodb://localhost:27017/mars_db\"\n",
    "mongo = PyMongo(app)"
   ]
  },
  {
   "cell_type": "code",
   "execution_count": null,
   "id": "41091088",
   "metadata": {},
   "outputs": [
    {
     "name": "stdout",
     "output_type": "stream",
     "text": [
      " * Serving Flask app \"__main__\" (lazy loading)\n",
      " * Environment: production\n",
      "\u001b[31m   WARNING: This is a development server. Do not use it in a production deployment.\u001b[0m\n",
      "\u001b[2m   Use a production WSGI server instead.\u001b[0m\n",
      " * Debug mode: on\n"
     ]
    },
    {
     "name": "stderr",
     "output_type": "stream",
     "text": [
      " * Running on http://127.0.0.1:5000/ (Press CTRL+C to quit)\n",
      "127.0.0.1 - - [11/Dec/2021 18:49:21] \"\u001b[37mGET / HTTP/1.1\u001b[0m\" 200 -\n",
      "\n",
      "\n",
      "====== WebDriver manager ======\n",
      "Current google-chrome version is 96.0.4664\n",
      "Get LATEST chromedriver version for 96.0.4664 google-chrome\n",
      "Driver [/Users/joescuteri/.wdm/drivers/chromedriver/mac64/96.0.4664.45/chromedriver] found in cache\n",
      "\n",
      "\n",
      "====== WebDriver manager ======\n",
      "Current google-chrome version is 96.0.4664\n",
      "Get LATEST chromedriver version for 96.0.4664 google-chrome\n",
      "Driver [/Users/joescuteri/.wdm/drivers/chromedriver/mac64/96.0.4664.45/chromedriver] found in cache\n",
      "127.0.0.1 - - [11/Dec/2021 18:49:38] \"\u001b[35m\u001b[1mGET /scrape HTTP/1.1\u001b[0m\" 500 -\n",
      "127.0.0.1 - - [11/Dec/2021 18:49:42] \"\u001b[35m\u001b[1mGET /scrape HTTP/1.1\u001b[0m\" 500 -\n",
      "Traceback (most recent call last):\n",
      "  File \"/opt/anaconda3/envs/PythonData/lib/python3.8/site-packages/flask/app.py\", line 2464, in __call__\n",
      "    return self.wsgi_app(environ, start_response)\n",
      "  File \"/opt/anaconda3/envs/PythonData/lib/python3.8/site-packages/flask/app.py\", line 2450, in wsgi_app\n",
      "    response = self.handle_exception(e)\n",
      "  File \"/opt/anaconda3/envs/PythonData/lib/python3.8/site-packages/flask/app.py\", line 1867, in handle_exception\n",
      "    reraise(exc_type, exc_value, tb)\n",
      "  File \"/opt/anaconda3/envs/PythonData/lib/python3.8/site-packages/flask/_compat.py\", line 39, in reraise\n",
      "    raise value\n",
      "  File \"/opt/anaconda3/envs/PythonData/lib/python3.8/site-packages/flask/app.py\", line 2447, in wsgi_app\n",
      "    response = self.full_dispatch_request()\n",
      "  File \"/opt/anaconda3/envs/PythonData/lib/python3.8/site-packages/flask/app.py\", line 1952, in full_dispatch_request\n",
      "    rv = self.handle_user_exception(e)\n",
      "  File \"/opt/anaconda3/envs/PythonData/lib/python3.8/site-packages/flask/app.py\", line 1821, in handle_user_exception\n",
      "    reraise(exc_type, exc_value, tb)\n",
      "  File \"/opt/anaconda3/envs/PythonData/lib/python3.8/site-packages/flask/_compat.py\", line 39, in reraise\n",
      "    raise value\n",
      "  File \"/opt/anaconda3/envs/PythonData/lib/python3.8/site-packages/flask/app.py\", line 1950, in full_dispatch_request\n",
      "    rv = self.dispatch_request()\n",
      "  File \"/opt/anaconda3/envs/PythonData/lib/python3.8/site-packages/flask/app.py\", line 1936, in dispatch_request\n",
      "    return self.view_functions[rule.endpoint](**req.view_args)\n",
      "  File \"/var/folders/n9/t7mhzk117rq2k3zg04nn_fmc0000gn/T/ipykernel_55913/84291850.py\", line 11, in scraper\n",
      "    \n",
      "  File \"/opt/anaconda3/envs/PythonData/lib/python3.8/site-packages/pymongo/collection.py\", line 2584, in __call__\n",
      "    raise TypeError(\"'Collection' object is not callable. If you meant to \"\n",
      "TypeError: 'Collection' object is not callable. If you meant to call the 'update' method on a 'Collection' object it is failing because no such method exists.\n",
      "127.0.0.1 - - [11/Dec/2021 18:49:42] \"\u001b[37mGET /scrape?__debugger__=yes&cmd=resource&f=jquery.js HTTP/1.1\u001b[0m\" 200 -\n",
      "127.0.0.1 - - [11/Dec/2021 18:49:42] \"\u001b[37mGET /scrape?__debugger__=yes&cmd=resource&f=style.css HTTP/1.1\u001b[0m\" 200 -\n",
      "127.0.0.1 - - [11/Dec/2021 18:49:42] \"\u001b[37mGET /scrape?__debugger__=yes&cmd=resource&f=debugger.js HTTP/1.1\u001b[0m\" 200 -\n",
      "127.0.0.1 - - [11/Dec/2021 18:49:42] \"\u001b[37mGET /scrape?__debugger__=yes&cmd=resource&f=console.png HTTP/1.1\u001b[0m\" 200 -\n",
      "127.0.0.1 - - [11/Dec/2021 18:49:42] \"\u001b[37mGET /scrape?__debugger__=yes&cmd=resource&f=ubuntu.ttf HTTP/1.1\u001b[0m\" 200 -\n"
     ]
    }
   ],
   "source": [
    "@app.route(\"/\")\n",
    "def index():\n",
    "    marspage = mongo.db.red_planet.find_one()\n",
    "    return render_template(\"index.html\", red_planet=marspage)\n",
    "\n",
    "\n",
    "@app.route(\"/scrape\")\n",
    "def scraper():\n",
    "    red_planet = mongo.db.red_planet\n",
    "    mars_data = scrape_mars.scrape()\n",
    "    red_planet.update({}, mars_data, upsert=True)\n",
    "    print(red_planet)\n",
    "    return redirect(\"/\", code=302)\n",
    "\n",
    "\n",
    "if __name__ == \"__main__\":\n",
    "    app.run(debug=True, use_reloader=False)\n"
   ]
  },
  {
   "cell_type": "code",
   "execution_count": null,
   "id": "948bb68a",
   "metadata": {},
   "outputs": [],
   "source": []
  },
  {
   "cell_type": "code",
   "execution_count": null,
   "id": "ec25473e",
   "metadata": {},
   "outputs": [],
   "source": []
  },
  {
   "cell_type": "code",
   "execution_count": null,
   "id": "dd67ee00",
   "metadata": {},
   "outputs": [],
   "source": []
  },
  {
   "cell_type": "code",
   "execution_count": null,
   "id": "b0865b46",
   "metadata": {},
   "outputs": [],
   "source": []
  },
  {
   "cell_type": "code",
   "execution_count": null,
   "id": "a8625c67",
   "metadata": {},
   "outputs": [],
   "source": []
  },
  {
   "cell_type": "code",
   "execution_count": null,
   "id": "614a06b4",
   "metadata": {},
   "outputs": [],
   "source": []
  },
  {
   "cell_type": "code",
   "execution_count": null,
   "id": "0a84f2ec",
   "metadata": {},
   "outputs": [],
   "source": []
  },
  {
   "cell_type": "code",
   "execution_count": null,
   "id": "c2515904",
   "metadata": {},
   "outputs": [],
   "source": []
  },
  {
   "cell_type": "code",
   "execution_count": null,
   "id": "78c5f56c",
   "metadata": {},
   "outputs": [],
   "source": []
  },
  {
   "cell_type": "code",
   "execution_count": null,
   "id": "0b078ba4",
   "metadata": {},
   "outputs": [],
   "source": []
  },
  {
   "cell_type": "code",
   "execution_count": null,
   "id": "3a493600",
   "metadata": {},
   "outputs": [],
   "source": []
  },
  {
   "cell_type": "code",
   "execution_count": null,
   "id": "ce7721bc",
   "metadata": {},
   "outputs": [],
   "source": []
  },
  {
   "cell_type": "code",
   "execution_count": null,
   "id": "070005ba",
   "metadata": {},
   "outputs": [],
   "source": []
  },
  {
   "cell_type": "code",
   "execution_count": null,
   "id": "0fc5ee83",
   "metadata": {},
   "outputs": [],
   "source": []
  },
  {
   "cell_type": "code",
   "execution_count": null,
   "id": "bd9c5fa6",
   "metadata": {},
   "outputs": [],
   "source": []
  },
  {
   "cell_type": "code",
   "execution_count": null,
   "id": "9acdfae2",
   "metadata": {},
   "outputs": [],
   "source": [
    "# #Initialize PyMongo to work with MongoDBs\n",
    "\n",
    "# conn = 'mongodb://localhost:27017'\n",
    "# client = pymongo.MongoClient(conn)"
   ]
  },
  {
   "cell_type": "code",
   "execution_count": null,
   "id": "e97f535a",
   "metadata": {},
   "outputs": [],
   "source": [
    "#Define database and collection\n",
    "\n",
    "# db = client.mars_db\n",
    "# collection = db.mars_articles"
   ]
  }
 ],
 "metadata": {
  "kernelspec": {
   "display_name": "Python [conda env:PythonData] *",
   "language": "python",
   "name": "conda-env-PythonData-py"
  },
  "language_info": {
   "codemirror_mode": {
    "name": "ipython",
    "version": 3
   },
   "file_extension": ".py",
   "mimetype": "text/x-python",
   "name": "python",
   "nbconvert_exporter": "python",
   "pygments_lexer": "ipython3",
   "version": "3.8.11"
  }
 },
 "nbformat": 4,
 "nbformat_minor": 5
}
